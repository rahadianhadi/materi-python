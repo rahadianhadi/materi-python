{
  "nbformat": 4,
  "nbformat_minor": 0,
  "metadata": {
    "colab": {
      "provenance": [],
      "authorship_tag": "ABX9TyMQddC/FXJqLQrYym1rKQ2/",
      "include_colab_link": true
    },
    "kernelspec": {
      "name": "python3",
      "display_name": "Python 3"
    },
    "language_info": {
      "name": "python"
    }
  },
  "cells": [
    {
      "cell_type": "markdown",
      "metadata": {
        "id": "view-in-github",
        "colab_type": "text"
      },
      "source": [
        "<a href=\"https://colab.research.google.com/github/rahadianhadi/materi-python/blob/main/4_Fungsi.ipynb\" target=\"_parent\"><img src=\"https://colab.research.google.com/assets/colab-badge.svg\" alt=\"Open In Colab\"/></a>"
      ]
    },
    {
      "cell_type": "markdown",
      "source": [
        "## Blok If\n",
        "\n",
        "Blok kode if pada Python strukturnya seperti ini:\n",
        "\n",
        "```\n",
        "if kondisi:\n",
        "  perintah()\n",
        "```\n",
        "\n"
      ],
      "metadata": {
        "id": "7gp9l64vVbq_"
      }
    },
    {
      "cell_type": "code",
      "source": [
        "if True:\n",
        "  print('Perintah ini akan dieksekusi')\n",
        "\n",
        "if False:\n",
        "  print('Perintah ini tidak akan pernah dieksekusi')\n",
        "\n",
        "print('Perintah ini akan selalu dieksekusi')"
      ],
      "metadata": {
        "id": "rqKmD8MqXA2N"
      },
      "execution_count": null,
      "outputs": []
    },
    {
      "cell_type": "code",
      "source": [
        "\n",
        "if 3 > 6:\n",
        "  print('Nilai 3 lebih dari 6')\n",
        "\n",
        "if 6 > 3:\n",
        "  print('Nilai 6 lebih dari 3')\n"
      ],
      "metadata": {
        "id": "P4hArpE-bZOr"
      },
      "execution_count": null,
      "outputs": []
    },
    {
      "cell_type": "code",
      "source": [
        "# Blok if else\n",
        "\n",
        "nilai = 79\n",
        "\n",
        "print('Nilai anda adalah:', nilai)\n",
        "\n",
        "if nilai >= 80:\n",
        "  print('Selamat, anda lulus!')\n",
        "else:\n",
        "  print('Maaf, anda tidak lulus.')\n"
      ],
      "metadata": {
        "id": "b88Xv59hcVs1"
      },
      "execution_count": null,
      "outputs": []
    },
    {
      "cell_type": "code",
      "source": [
        "# Blok if else\n",
        "\n",
        "nilai = 80\n",
        "\n",
        "print('Nilai anda adalah:', nilai)\n",
        "\n",
        "if nilai > 80:\n",
        "  print('Selamat, anda lulus!')\n",
        "else:\n",
        "  print('Maaf, anda tidak lulus.')\n"
      ],
      "metadata": {
        "id": "Est7mgssdyab"
      },
      "execution_count": null,
      "outputs": []
    },
    {
      "cell_type": "code",
      "source": [
        "# Blok if elseif else\n",
        "\n",
        "nilai = int(input('Masukkan nilai: '))\n",
        "\n",
        "if nilai >= 90:\n",
        "  print('Predikat A')\n",
        "elif nilai >= 80:\n",
        "  print('Predikat B')\n",
        "elif nilai >= 60:\n",
        "  print('Predikat C')\n",
        "elif nilai >= 40:\n",
        "  print('Predikat D')\n",
        "else:\n",
        "  print('Predikat E')\n",
        "  "
      ],
      "metadata": {
        "id": "K_ASgeu6c6BR"
      },
      "execution_count": null,
      "outputs": []
    },
    {
      "cell_type": "code",
      "source": [
        "\n",
        "# Contoh salah blok if tanpa elseif dari contoh sebelumnya\n",
        "\n",
        "nilai = int(input('Masukkan nilai: '))\n",
        "\n",
        "if nilai >= 90:\n",
        "  print('Predikat A')\n",
        "if nilai >= 80:\n",
        "  print('Predikat B')\n",
        "if nilai >= 60:\n",
        "  print('Predikat C')\n",
        "if nilai >= 40:\n",
        "  print('Predikat D')\n",
        "else:\n",
        "  print('Predikat E')\n",
        "  "
      ],
      "metadata": {
        "id": "MPY6-Ufhn1J_"
      },
      "execution_count": null,
      "outputs": []
    },
    {
      "cell_type": "code",
      "source": [
        "# Blok if dengan operator logika\n",
        "\n",
        "keranjang_buah = ['rambutan', 'jeruk', 'apel', 'mangga', 'melon']\n",
        "nama_buah = input('Masukkan nama buah dalam huruf kecil: ')\n",
        "\n",
        "if (nama_buah in keranjang_buah):\n",
        "  print(f'Buah {nama_buah} yang anda cari tersedia!')\n",
        "else:\n",
        "  print(f'Buah {nama_buah} yang anda cari tidak tersedia!')\n"
      ],
      "metadata": {
        "id": "NrBT923kooRd"
      },
      "execution_count": null,
      "outputs": []
    },
    {
      "cell_type": "code",
      "source": [
        "\n",
        "# If dalam satu baris\n",
        "\n",
        "nilai = int(input('Masukkan nilai: '))\n",
        "\n",
        "status = 'lulus' if nilai >= 80 else 'tidak lulus'\n",
        "\n",
        "print(status)\n",
        "\n",
        "\n"
      ],
      "metadata": {
        "id": "9ejNg6kwuwBg"
      },
      "execution_count": null,
      "outputs": []
    },
    {
      "cell_type": "code",
      "source": [
        "# Kode asli sebelum diubah ke ternary\n",
        "\n",
        "if nilai >= 80:\n",
        "  status = 'lulus'\n",
        "else:\n",
        "  status = 'tidak lulus'\n",
        "\n",
        "print(status)\n"
      ],
      "metadata": {
        "id": "ZBG5ptOWwWj9"
      },
      "execution_count": null,
      "outputs": []
    },
    {
      "cell_type": "code",
      "source": [
        "# Percabangan bertingkat\n",
        "\n",
        "nilai = int(input('Masukkan nilai: '))\n",
        "usia = int(input('Masukkan usia: '))\n",
        "\n",
        "if nilai >= 80:\n",
        "  if (usia < 15):\n",
        "    print('Selamat adik, kamu lulus!')\n",
        "  else:\n",
        "    print('Selamat kakak, kamu lulus!')\n",
        "else:\n",
        "  if (usia < 15):\n",
        "    print('Mohon maaf dik, coba lagi ya!')\n",
        "  else:\n",
        "    print('Mohon maaf kak, coba lagi ya!')\n"
      ],
      "metadata": {
        "id": "ZuQIyytAw-NA"
      },
      "execution_count": null,
      "outputs": []
    },
    {
      "cell_type": "code",
      "source": [
        "\n",
        "keranjang_buah = ['rambutan', 'jeruk', 'apel', 'mangga', 'melon']\n",
        "\n",
        "for buah in keranjang_buah:\n",
        "  print(buah)\n"
      ],
      "metadata": {
        "id": "GpedV7BA18gT"
      },
      "execution_count": null,
      "outputs": []
    },
    {
      "cell_type": "code",
      "source": [
        "\n",
        "# Menggunakan fungsi enumerate untuk urutan iterasi\n",
        "keranjang_buah = ['rambutan', 'jeruk', 'apel', 'mangga', 'melon']\n",
        "\n",
        "for i, buah in enumerate(keranjang_buah):\n",
        "  print(i, buah)\n"
      ],
      "metadata": {
        "id": "PCm0atn_3Iwu"
      },
      "execution_count": null,
      "outputs": []
    },
    {
      "cell_type": "code",
      "source": [
        "# Menggunakan fungsi range()\n",
        "## sebanyak 5, mulai dari 0 sampai 4\n",
        "\n",
        "for i in range(5):\n",
        "  print(\"Perulangan ke -\", i)\n"
      ],
      "metadata": {
        "id": "zzMRmfvt3tzO"
      },
      "execution_count": null,
      "outputs": []
    },
    {
      "cell_type": "code",
      "source": [
        "# Menggunakan fungsi range()\n",
        "## sebanyak 5, mulai dari 1 sampai 5\n",
        "\n",
        "for i in range(1, 6):\n",
        "  print(\"Perulangan ke -\", i)\n"
      ],
      "metadata": {
        "id": "6W3w5dw84Q8Z"
      },
      "execution_count": null,
      "outputs": []
    },
    {
      "cell_type": "code",
      "source": [
        "# Menggunakan fungsi range()\n",
        "## Bilangan genap kelipatan 2\n",
        "\n",
        "for i in range(2, 12, 2):\n",
        "  print(\"Perulangan ke -\", i)\n",
        "  "
      ],
      "metadata": {
        "id": "1tnepUHN5KP2"
      },
      "execution_count": null,
      "outputs": []
    },
    {
      "cell_type": "code",
      "source": [
        "# Selain list, tuple juga bisa digunakan\n",
        "keranjang_buah = ('rambutan', 'jeruk', 'apel', 'mangga', 'melon', )\n",
        "\n",
        "for buah in keranjang_buah:\n",
        "  print(buah)"
      ],
      "metadata": {
        "id": "78RTH9oE6eU9"
      },
      "execution_count": null,
      "outputs": []
    },
    {
      "cell_type": "code",
      "source": [
        "\n",
        "for huruf in \"Python\":\n",
        "  print(huruf)\n",
        "  "
      ],
      "metadata": {
        "id": "iDmQ4D6J7ANo"
      },
      "execution_count": null,
      "outputs": []
    },
    {
      "cell_type": "code",
      "source": [
        "\n",
        "for i in range(1, 10):\n",
        "  # skip jika i == 5\n",
        "  if (i == 5):\n",
        "    continue\n",
        "  \n",
        "  print(i)\n",
        "  "
      ],
      "metadata": {
        "id": "YNMBD9CEYaj-"
      },
      "execution_count": null,
      "outputs": []
    },
    {
      "cell_type": "code",
      "source": [
        "for i in range(1, 10):\n",
        "  # stop jika i == 5\n",
        "  if (i == 5):\n",
        "    break\n",
        "  \n",
        "  print(i)\n",
        "  "
      ],
      "metadata": {
        "id": "FdqljYTnY8-5"
      },
      "execution_count": null,
      "outputs": []
    },
    {
      "cell_type": "code",
      "source": [
        "\n",
        "daftar_kota = [\n",
        "  'Bandung', 'Jakarta', 'Surabaya', 'Depok', 'Bekasi', \n",
        "  'Jogjakarta', 'Semarang', 'Makassar', 'Solo',\n",
        "]\n",
        "\n",
        "for kota in daftar_kota:\n",
        "  print(kota)\n",
        "else:\n",
        "  print('Tidak ada lagi item yang tersisa')\n"
      ],
      "metadata": {
        "id": "CB9aM1TkZhEF"
      },
      "execution_count": null,
      "outputs": []
    },
    {
      "cell_type": "code",
      "source": [
        "\n",
        "daftar_kota = [\n",
        "  'Bandung', 'Jakarta', 'Surabaya', 'Depok', 'Bekasi', \n",
        "  'Jogjakarta', 'Semarang', 'Makassar', 'Solo',\n",
        "]\n",
        "\n",
        "for kota in daftar_kota:\n",
        "  if kota == 'Depok':\n",
        "    break\n",
        "  print(kota)\n",
        "else:\n",
        "  print('Tidak ada lagi item yang tersisa')"
      ],
      "metadata": {
        "id": "lm6vLtenaTJq"
      },
      "execution_count": null,
      "outputs": []
    },
    {
      "cell_type": "code",
      "source": [
        "\n",
        "while (1 + 2 == 3):\n",
        "  print('Halo Python!')\n",
        "\n",
        "\n"
      ],
      "metadata": {
        "id": "LdCCv6ikdL9D"
      },
      "execution_count": null,
      "outputs": []
    },
    {
      "cell_type": "code",
      "source": [
        "\n",
        "\n",
        "i = 1\n",
        "\n",
        "while i <= 5:\n",
        "  print(i)\n",
        "  i += 1\n",
        "\n",
        "  "
      ],
      "metadata": {
        "id": "0lgyWapJe1HS"
      },
      "execution_count": null,
      "outputs": []
    },
    {
      "cell_type": "code",
      "source": [
        "\n",
        "daftar_kota = [\n",
        "  'Bandung', 'Jakarta', 'Surabaya', 'Depok', 'Bekasi', \n",
        "  'Jogjakarta', 'Semarang', 'Makassar', 'Solo',\n",
        "]\n",
        "\n",
        "i = 0 # tentukan posisi awal\n",
        "while i < len(daftar_kota):\n",
        "  print(daftar_kota[i])\n",
        "  \n",
        "  i += 1 # jangan lupa tambahkan nilai 1 ke var i\n"
      ],
      "metadata": {
        "id": "2xBjhILVgNiD"
      },
      "execution_count": null,
      "outputs": []
    },
    {
      "cell_type": "code",
      "source": [
        "\n",
        "\n",
        "for i in range(3):\n",
        "  print('Perulangan luar [i] = ', i)\n",
        "\n",
        "  for j in range(5):\n",
        "    print('   Perulangan dalam [i, j] = ', str(i) + ', ' + str(j))\n",
        "\n",
        "  "
      ],
      "metadata": {
        "id": "Hl7drrmrimcU"
      },
      "execution_count": null,
      "outputs": []
    },
    {
      "cell_type": "code",
      "source": [
        "# Init\n",
        "animals = [\"Bears\", \"Lions\", \"Jaguars\"]\n",
        "\n",
        "# Tambah Panthers\n",
        "animals.append(\"Panthers\")\n",
        "\n",
        "# Urutkan dengan fungsi sort()\n",
        "animals.sort()\n",
        "\n",
        "# Perulangan menggunakan for\n",
        "for animal in animals:\n",
        "  print(animal)\n",
        "  "
      ],
      "metadata": {
        "id": "I904qpHdZR-s"
      },
      "execution_count": null,
      "outputs": []
    },
    {
      "cell_type": "code",
      "source": [],
      "metadata": {
        "id": "yfsQ9ihQLG9M"
      },
      "execution_count": null,
      "outputs": []
    },
    {
      "cell_type": "markdown",
      "source": [
        "## Fungsi"
      ],
      "metadata": {
        "id": "Y7wQVgQSZTs1"
      }
    },
    {
      "cell_type": "code",
      "source": [
        "\n",
        "def halo_python():\n",
        "  print('Halo python!')\n",
        "\n",
        "\n",
        "# Panggil fungsi\n",
        "halo_python()\n"
      ],
      "metadata": {
        "id": "WRC65wX-qLFl"
      },
      "execution_count": null,
      "outputs": []
    },
    {
      "cell_type": "code",
      "source": [
        "\n",
        "\n",
        "def sapa_nama(nama_panggilan):\n",
        "  print(f'Halo {nama_panggilan}, selamat datang!')\n",
        "\n",
        "\n",
        "sapa_nama('Kaka')\n",
        "sapa_nama('Irfansyah')\n"
      ],
      "metadata": {
        "id": "cR4eMOrYuoS6"
      },
      "execution_count": null,
      "outputs": []
    },
    {
      "cell_type": "code",
      "source": [
        "\n",
        "\n",
        "def luas_persegi (sisi):\n",
        "  return sisi * sisi\n",
        "\n",
        "\n",
        "# tidak menghasilkan output dalam CLI\n",
        "luas_persegi(10)\n",
        "\n",
        "\n",
        "# output fungsi luas_persegi, dimasukkan ke parameter fungsi print\n",
        "print('Luas persegi dengan sisi 4 adalah:', luas_persegi(4))\n",
        "\n",
        "\n",
        "# kita juga bisa simpan di dalam variabel\n",
        "persegi_besar = luas_persegi(100)\n",
        "persegi_kecil = luas_persegi(50)\n",
        "\n",
        "print('Total luas persegi besar dan kecil adalah:', persegi_besar + persegi_kecil)\n",
        "\n"
      ],
      "metadata": {
        "id": "_HlsIJwtxcXc"
      },
      "execution_count": null,
      "outputs": []
    },
    {
      "cell_type": "code",
      "source": [
        "\n",
        "kota = 'Bandung'\n",
        "\n",
        "def cetak_kota() :\n",
        "  print(kota)\n",
        "\n",
        "print('[panggil secara langsung]', kota)\n",
        "print('[panggil fungsi cetak_kota]', end=' ')\n",
        "\n",
        "cetak_kota()\n"
      ],
      "metadata": {
        "id": "qCWyreXazaxO"
      },
      "execution_count": null,
      "outputs": []
    },
    {
      "cell_type": "code",
      "source": [
        "\n",
        "kota, provinsi = 'Bandung', 'Jawa Barat'\n",
        "\n",
        "def contoh_var_lokal():\n",
        "  provinsi = 'Jawa Timur'\n",
        "  print(kota, provinsi)\n",
        "\n",
        "print('[Panggil fungsi contoh_var_lokal()]')\n",
        "contoh_var_lokal()\n",
        "\n",
        "print('\\n[Panggil variabel secara langsung]')\n",
        "print(kota, provinsi)\n"
      ],
      "metadata": {
        "id": "ak41QWiq00PI"
      },
      "execution_count": null,
      "outputs": []
    },
    {
      "cell_type": "code",
      "source": [
        "import math\n",
        "import datetime\n",
        "\n",
        "print('Tanggal dan waktu sekarang: ', datetime.datetime.now())\n",
        "print('Nilai konstanta pi: ', math.pi)\n"
      ],
      "metadata": {
        "id": "Ws9Ohx6UtJMr"
      },
      "execution_count": null,
      "outputs": []
    },
    {
      "cell_type": "code",
      "source": [],
      "metadata": {
        "id": "v8HqqNKvLIa6"
      },
      "execution_count": null,
      "outputs": []
    }
  ]
}