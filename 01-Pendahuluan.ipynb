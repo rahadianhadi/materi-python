{
  "cells": [
    {
      "cell_type": "markdown",
      "metadata": {
        "id": "view-in-github",
        "colab_type": "text"
      },
      "source": [
        "<a href=\"https://colab.research.google.com/github/rahadianhadi/materi-python/blob/main/01-Pendahuluan.ipynb\" target=\"_parent\"><img src=\"https://colab.research.google.com/assets/colab-badge.svg\" alt=\"Open In Colab\"/></a>"
      ]
    },
    {
      "cell_type": "markdown",
      "metadata": {
        "id": "71bk1_XGS61x"
      },
      "source": [
        "# Pendahuluan\n",
        "Belajar bahasa pemrograman Python"
      ]
    },
    {
      "cell_type": "code",
      "source": [
        "num1 = 2\n",
        "num2 = 3\n",
        "\n",
        "# bisa menggunakan fungsi print()\n",
        "print(num1 + num2)\n",
        "\n",
        "# atau tanpa fungsi print()\n",
        "num1 + num2"
      ],
      "metadata": {
        "id": "O0ird3nzW8FH"
      },
      "execution_count": null,
      "outputs": []
    },
    {
      "cell_type": "code",
      "source": [
        "x = 1\n",
        "y = 2\n",
        "z = x\n",
        "x = y\n",
        "y = z\n",
        "\n",
        "# hasil output variabel x dan y\n",
        "x, y"
      ],
      "metadata": {
        "id": "Lby6j-icXKfj"
      },
      "execution_count": null,
      "outputs": []
    }
  ],
  "metadata": {
    "language_info": {
      "name": "python"
    },
    "orig_nbformat": 4,
    "colab": {
      "provenance": [],
      "include_colab_link": true
    },
    "accelerator": "GPU",
    "gpuClass": "standard",
    "kernelspec": {
      "name": "python3",
      "display_name": "Python 3"
    }
  },
  "nbformat": 4,
  "nbformat_minor": 0
}